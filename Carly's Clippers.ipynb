{
 "cells": [
  {
   "cell_type": "code",
   "execution_count": 1,
   "id": "47e6a8f4",
   "metadata": {},
   "outputs": [
    {
     "name": "stdout",
     "output_type": "stream",
     "text": [
      "Average Haircut Price:  31.875\n",
      "[25, 20, 35, 15, 15, 30, 45, 30]\n",
      "Total revenue:  1085\n",
      "155.0\n",
      "['bouffant', 'pixie', 'crew', 'bowl']\n"
     ]
    }
   ],
   "source": [
    "hairstyles = [\"bouffant\", \"pixie\", \"dreadlocks\", \"crew\", \"bowl\", \"bob\", \"mohawk\", \"flattop\"]\n",
    "\n",
    "prices = [30, 25, 40, 20, 20, 35, 50, 35]\n",
    "\n",
    "last_week = [2, 3, 5, 8, 4, 4, 6, 2]\n",
    "\n",
    "total_price = 0\n",
    "\n",
    "for price in prices:\n",
    "  total_price += price\n",
    "\n",
    "average_price = total_price / len(prices) \n",
    "print(\"Average Haircut Price: \", average_price)\n",
    "\n",
    "new_prices = [price - 5 for price in prices]\n",
    "print(new_prices)\n",
    "\n",
    "total_revenue = 0\n",
    "for i in range(len(hairstyles)):\n",
    "  total_revenue += prices[i] * last_week[i]\n",
    "print(\"Total revenue: \", total_revenue)\n",
    "\n",
    "average_daily_revenue = total_revenue / 7\n",
    "print(average_daily_revenue)\n",
    "\n",
    "cuts_under_30 = [hairstyles[i] for i in range(len(hairstyles)) if new_prices[i] < 30]\n",
    "print(cuts_under_30)\n"
   ]
  },
  {
   "cell_type": "code",
   "execution_count": null,
   "id": "ec7e61ff",
   "metadata": {},
   "outputs": [],
   "source": []
  }
 ],
 "metadata": {
  "kernelspec": {
   "display_name": "Python 3 (ipykernel)",
   "language": "python",
   "name": "python3"
  },
  "language_info": {
   "codemirror_mode": {
    "name": "ipython",
    "version": 3
   },
   "file_extension": ".py",
   "mimetype": "text/x-python",
   "name": "python",
   "nbconvert_exporter": "python",
   "pygments_lexer": "ipython3",
   "version": "3.9.7"
  }
 },
 "nbformat": 4,
 "nbformat_minor": 5
}
